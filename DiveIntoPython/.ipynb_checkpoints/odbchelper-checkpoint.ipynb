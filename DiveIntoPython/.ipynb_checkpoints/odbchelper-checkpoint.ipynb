{
 "cells": [
  {
   "cell_type": "code",
   "execution_count": 9,
   "metadata": {
    "collapsed": true
   },
   "outputs": [],
   "source": [
    "def buildConnectionString(params):\n",
    "    \"\"\"Build a connection string from a dictionay of parameters.\n",
    "    \n",
    "    Returns string.\"\"\"\n",
    "    return \";\".join([\"%s=%s\" % (k, v) for k, v in params.items()])"
   ]
  },
  {
   "cell_type": "code",
   "execution_count": 11,
   "metadata": {},
   "outputs": [
    {
     "name": "stdout",
     "output_type": "stream",
     "text": [
      "{'server': 'mpilgrim', 'datebase': 'master', 'uid': 'sa', 'pwd': 'secret'}\n",
      "server=mpilgrim;datebase=master;uid=sa;pwd=secret\n"
     ]
    }
   ],
   "source": [
    "if __name__ == \"__main__\":\n",
    "    myParams = {\"server\":\"mpilgrim\", \\\n",
    "                \"datebase\":\"master\", \\\n",
    "                \"uid\":\"sa\", \\\n",
    "                \"pwd\":\"secret\" \\\n",
    "               }\n",
    "    print (myParams)\n",
    "    print (buildConnectionString(myParams))"
   ]
  }
 ],
 "metadata": {
  "kernelspec": {
   "display_name": "Python 3",
   "language": "python",
   "name": "python3"
  },
  "language_info": {
   "codemirror_mode": {
    "name": "ipython",
    "version": 3
   },
   "file_extension": ".py",
   "mimetype": "text/x-python",
   "name": "python",
   "nbconvert_exporter": "python",
   "pygments_lexer": "ipython3",
   "version": "3.6.1"
  }
 },
 "nbformat": 4,
 "nbformat_minor": 2
}
