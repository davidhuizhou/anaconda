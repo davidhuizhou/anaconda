{
 "cells": [
  {
   "cell_type": "code",
   "execution_count": 3,
   "metadata": {},
   "outputs": [
    {
     "name": "stdout",
     "output_type": "stream",
     "text": [
      "/Users/huizhou/Documents/Development/diveintopython3/examples\n"
     ]
    }
   ],
   "source": [
    "# 3.2.2 Working with filenames and directory names\n",
    "\n",
    "import os\n",
    "print(os.getcwd())"
   ]
  },
  {
   "cell_type": "code",
   "execution_count": 5,
   "metadata": {},
   "outputs": [
    {
     "name": "stdout",
     "output_type": "stream",
     "text": [
      "/Users/huizhou/Documents/Development/diveintopython3/examples\n"
     ]
    }
   ],
   "source": [
    "import os\n",
    "os.chdir('/Users/huizhou/Documents/Development/diveintopython3/examples')\n",
    "print(os.getcwd())"
   ]
  },
  {
   "cell_type": "code",
   "execution_count": 9,
   "metadata": {},
   "outputs": [
    {
     "name": "stdout",
     "output_type": "stream",
     "text": [
      "/Users/huizhou/Documents/Development/diveintopython3/examples/humansize.py\n"
     ]
    }
   ],
   "source": [
    "import os\n",
    "print(os.path.join('/Users/huizhou/Documents/Development/diveintopython3/examples/', 'humansize.py'))"
   ]
  },
  {
   "cell_type": "code",
   "execution_count": 11,
   "metadata": {},
   "outputs": [
    {
     "name": "stdout",
     "output_type": "stream",
     "text": [
      "/Users/huizhou\n",
      "/Users/huizhou/Documents/Development/diveintopython3/examples/humansize.py\n"
     ]
    }
   ],
   "source": [
    "import os\n",
    "print(os.path.expanduser('~'))\n",
    "print(os.path.join(os.path.expanduser('~'), 'Documents/Development/diveintopython3', 'examples', 'humansize.py'))"
   ]
  },
  {
   "cell_type": "code",
   "execution_count": 14,
   "metadata": {},
   "outputs": [
    {
     "name": "stdout",
     "output_type": "stream",
     "text": [
      "/Users/huizhou/Documents/Development/diveintopython3/examples\n",
      "humansize.py\n",
      "humansize\n",
      ".py\n"
     ]
    }
   ],
   "source": [
    "import os\n",
    "pathname = '/Users/huizhou/Documents/Development/diveintopython3/examples/humansize.py'\n",
    "(dirname, filename) = os.path.split(pathname)\n",
    "print(dirname)\n",
    "print(filename)\n",
    "(shortname, extension) = os.path.splitext(filename)\n",
    "print(shortname)\n",
    "print(extension)"
   ]
  },
  {
   "cell_type": "code",
   "execution_count": 23,
   "metadata": {},
   "outputs": [
    {
     "data": {
      "text/plain": [
       "['romantest2.py',\n",
       " 'romantest6.py',\n",
       " 'romantest7.py',\n",
       " 'romantest3.py',\n",
       " 'romantest8.py',\n",
       " 'pluraltest3.py',\n",
       " 'pluraltest2.py',\n",
       " 'pluraltest6.py',\n",
       " 'romantest9.py',\n",
       " 'alphameticstest.py',\n",
       " 'pluraltest1.py',\n",
       " 'pluraltest5.py',\n",
       " 'pluraltest4.py',\n",
       " 'romantest4.py',\n",
       " 'romantest10.py',\n",
       " 'romantest1.py',\n",
       " 'romantest5.py']"
      ]
     },
     "execution_count": 23,
     "metadata": {},
     "output_type": "execute_result"
    }
   ],
   "source": [
    "# 3.2.3 Listing directories\n",
    "import os, glob\n",
    "os.chdir('/Users/huizhou/Documents/Development/diveintopython3')\n",
    "#glob.glob('examples/*.xml')\n",
    "os.chdir('examples/')\n",
    "glob.glob('*test*.py')"
   ]
  },
  {
   "cell_type": "code",
   "execution_count": 29,
   "metadata": {},
   "outputs": [
    {
     "name": "stdout",
     "output_type": "stream",
     "text": [
      "/Users/huizhou/Documents/Development/diveintopython3/examples\n",
      "os.stat_result(st_mode=33188, st_ino=8594469998, st_dev=16777220, st_nlink=1, st_uid=501, st_gid=20, st_size=3070, st_atime=1520977677, st_mtime=1520977677, st_ctime=1520977677)\n"
     ]
    },
    {
     "data": {
      "text/plain": [
       "'3.0 KiB'"
      ]
     },
     "execution_count": 29,
     "metadata": {},
     "output_type": "execute_result"
    }
   ],
   "source": [
    "import os\n",
    "print(os.getcwd())\n",
    "metadata = os.stat('feed.xml')\n",
    "print(metadata)\n",
    "import time\n",
    "time.localtime(metadata.st_mtime)\n",
    "import humansize\n",
    "humansize.approximate_size(metadata.st_size)"
   ]
  },
  {
   "cell_type": "code",
   "execution_count": 31,
   "metadata": {},
   "outputs": [
    {
     "name": "stdout",
     "output_type": "stream",
     "text": [
      "/Users/huizhou/Documents/Development/diveintopython3/examples\n",
      "/Users/huizhou/Documents/Development/diveintopython3/examples/feed.xml\n"
     ]
    }
   ],
   "source": [
    "# 3.2.5 Constructing absolute pathnames\n",
    "\n",
    "import os\n",
    "print(os.getcwd())\n",
    "print(os.path.realpath('feed.xml'))"
   ]
  },
  {
   "cell_type": "code",
   "execution_count": 45,
   "metadata": {},
   "outputs": [
    {
     "name": "stdout",
     "output_type": "stream",
     "text": [
      "[2, 18, 16, 8]\n",
      "[2, 18, 16, 8]\n"
     ]
    }
   ],
   "source": [
    "# 3.3 List Comprehensions\n",
    "'''\n",
    "A list comprehension provides a compact way of mapping a list into another\n",
    "list by applying a function to each of the element of the list.\n",
    "'''\n",
    "\n",
    "a_list = [1, 9, 8, 4]\n",
    "print ([elem * 2 for elem in a_list])\n",
    "a_list\n",
    "a_list = [elem * 2 for elem in a_list]\n",
    "print(a_list)"
   ]
  },
  {
   "cell_type": "code",
   "execution_count": 42,
   "metadata": {},
   "outputs": [
    {
     "name": "stdout",
     "output_type": "stream",
     "text": [
      "['feed.xml', 'feed-broken.xml', 'feed-ns0.xml']\n"
     ]
    },
    {
     "data": {
      "text/plain": [
       "['/Users/huizhou/Documents/Development/diveintopython3/examples/feed.xml',\n",
       " '/Users/huizhou/Documents/Development/diveintopython3/examples/feed-broken.xml',\n",
       " '/Users/huizhou/Documents/Development/diveintopython3/examples/feed-ns0.xml']"
      ]
     },
     "execution_count": 42,
     "metadata": {},
     "output_type": "execute_result"
    }
   ],
   "source": [
    "'''\n",
    "You can apply any Python expression in a list comprehension.\n",
    "'''\n",
    "import os, glob\n",
    "print(glob.glob('*.xml'))\n",
    "[os.path.realpath(f) for f in glob.glob('*.xml')]"
   ]
  },
  {
   "cell_type": "code",
   "execution_count": 46,
   "metadata": {},
   "outputs": [
    {
     "data": {
      "text/plain": [
       "['romantest6.py',\n",
       " 'romantest7.py',\n",
       " 'romantest8.py',\n",
       " 'pluraltest6.py',\n",
       " 'romantest9.py',\n",
       " 'romantest10.py']"
      ]
     },
     "execution_count": 46,
     "metadata": {},
     "output_type": "execute_result"
    }
   ],
   "source": [
    "'''\n",
    "List comprehensions can also filter items.\n",
    "'''\n",
    "import os, glob\n",
    "[f for f in glob.glob('*.py') if os.stat(f).st_size > 6000]"
   ]
  },
  {
   "cell_type": "code",
   "execution_count": 50,
   "metadata": {},
   "outputs": [
    {
     "name": "stdout",
     "output_type": "stream",
     "text": [
      "[(3070, '/Users/huizhou/Documents/Development/diveintopython3/examples/feed.xml'), (3074, '/Users/huizhou/Documents/Development/diveintopython3/examples/feed-broken.xml'), (3386, '/Users/huizhou/Documents/Development/diveintopython3/examples/feed-ns0.xml')]\n",
      "[('3.0 KiB', 'feed.xml'), ('3.0 KiB', 'feed-broken.xml'), ('3.3 KiB', 'feed-ns0.xml')]\n"
     ]
    }
   ],
   "source": [
    "import os, glob\n",
    "print([(os.stat(f).st_size, os.path.realpath(f)) for f in glob.glob('*.xml')])\n",
    "print([(humansize.approximate_size(os.stat(f).st_size), f) for f in glob.glob('*.xml')])"
   ]
  },
  {
   "cell_type": "code",
   "execution_count": 52,
   "metadata": {},
   "outputs": [
    {
     "name": "stdout",
     "output_type": "stream",
     "text": [
      "('romantest2.py', os.stat_result(st_mode=33188, st_ino=8594470032, st_dev=16777220, st_nlink=1, st_uid=501, st_gid=20, st_size=4230, st_atime=1520977677, st_mtime=1520977677, st_ctime=1520977677))\n"
     ]
    }
   ],
   "source": [
    "# 3.4 Dictionary Comprehensions\n",
    "\n",
    "import os, glob\n",
    "metadata = [(f, os.stat(f)) for f in glob.glob('*test*.py')]\n",
    "print(metadata[0])"
   ]
  },
  {
   "cell_type": "code",
   "execution_count": 62,
   "metadata": {},
   "outputs": [
    {
     "name": "stdout",
     "output_type": "stream",
     "text": [
      "['romantest2.py', 'romantest6.py', 'romantest7.py', 'romantest3.py', 'romantest8.py', 'pluraltest3.py', 'pluraltest2.py', 'pluraltest6.py', 'romantest9.py', 'alphameticstest.py', 'pluraltest1.py', 'pluraltest5.py', 'pluraltest4.py', 'romantest4.py', 'romantest10.py', 'romantest1.py', 'romantest5.py']\n",
      "os.stat_result(st_mode=33188, st_ino=8594469986, st_dev=16777220, st_nlink=1, st_uid=501, st_gid=20, st_size=2509, st_atime=1520977677, st_mtime=1520977677, st_ctime=1520977677)\n"
     ]
    },
    {
     "data": {
      "text/plain": [
       "['romantest6',\n",
       " 'romantest7',\n",
       " 'romantest8',\n",
       " 'pluraltest6',\n",
       " 'romantest9',\n",
       " 'romantest10']"
      ]
     },
     "execution_count": 62,
     "metadata": {},
     "output_type": "execute_result"
    }
   ],
   "source": [
    "metadata_dict = {f:os.stat(f) for f in glob.glob('*test*.py')}\n",
    "type(metadata_dict)\n",
    "print(list(metadata_dict.keys()))\n",
    "print(metadata_dict['alphameticstest.py'])\n",
    "humansize_dict = {os.path.splitext(f)[0]:humansize.approximate_size(meta.st_size) \\\n",
    "                 for f, meta in metadata_dict.items() if meta.st_size > 6000}\n",
    "list(humansize_dict.keys())"
   ]
  },
  {
   "cell_type": "code",
   "execution_count": 67,
   "metadata": {},
   "outputs": [
    {
     "ename": "TypeError",
     "evalue": "unhashable type: 'list'",
     "output_type": "error",
     "traceback": [
      "\u001b[0;31m---------------------------------------------------------------------------\u001b[0m",
      "\u001b[0;31mTypeError\u001b[0m                                 Traceback (most recent call last)",
      "\u001b[0;32m<ipython-input-67-2e6869d2ddf5>\u001b[0m in \u001b[0;36m<module>\u001b[0;34m()\u001b[0m\n\u001b[1;32m      4\u001b[0m \u001b[0;34m{\u001b[0m\u001b[0mvalue\u001b[0m\u001b[0;34m:\u001b[0m\u001b[0mkey\u001b[0m \u001b[0;32mfor\u001b[0m \u001b[0mkey\u001b[0m\u001b[0;34m,\u001b[0m \u001b[0mvalue\u001b[0m \u001b[0;32min\u001b[0m \u001b[0ma_dict\u001b[0m\u001b[0;34m.\u001b[0m\u001b[0mitems\u001b[0m\u001b[0;34m(\u001b[0m\u001b[0;34m)\u001b[0m\u001b[0;34m}\u001b[0m\u001b[0;34m\u001b[0m\u001b[0m\n\u001b[1;32m      5\u001b[0m \u001b[0ma_dict\u001b[0m \u001b[0;34m=\u001b[0m \u001b[0;34m{\u001b[0m\u001b[0;34m'a'\u001b[0m\u001b[0;34m:\u001b[0m \u001b[0;34m[\u001b[0m\u001b[0;36m1\u001b[0m\u001b[0;34m,\u001b[0m \u001b[0;36m2\u001b[0m\u001b[0;34m,\u001b[0m \u001b[0;36m3\u001b[0m\u001b[0;34m]\u001b[0m\u001b[0;34m,\u001b[0m \u001b[0;34m'b'\u001b[0m\u001b[0;34m:\u001b[0m \u001b[0;36m4\u001b[0m\u001b[0;34m,\u001b[0m \u001b[0;34m'c'\u001b[0m\u001b[0;34m:\u001b[0m \u001b[0;36m5\u001b[0m\u001b[0;34m}\u001b[0m\u001b[0;34m\u001b[0m\u001b[0m\n\u001b[0;32m----> 6\u001b[0;31m \u001b[0;34m{\u001b[0m\u001b[0mvalue\u001b[0m\u001b[0;34m:\u001b[0m\u001b[0mkey\u001b[0m \u001b[0;32mfor\u001b[0m \u001b[0mkey\u001b[0m\u001b[0;34m,\u001b[0m \u001b[0mvalue\u001b[0m \u001b[0;32min\u001b[0m \u001b[0ma_dict\u001b[0m\u001b[0;34m.\u001b[0m\u001b[0mitems\u001b[0m\u001b[0;34m(\u001b[0m\u001b[0;34m)\u001b[0m\u001b[0;34m}\u001b[0m\u001b[0;34m\u001b[0m\u001b[0m\n\u001b[0m",
      "\u001b[0;32m<ipython-input-67-2e6869d2ddf5>\u001b[0m in \u001b[0;36m<dictcomp>\u001b[0;34m(.0)\u001b[0m\n\u001b[1;32m      4\u001b[0m \u001b[0;34m{\u001b[0m\u001b[0mvalue\u001b[0m\u001b[0;34m:\u001b[0m\u001b[0mkey\u001b[0m \u001b[0;32mfor\u001b[0m \u001b[0mkey\u001b[0m\u001b[0;34m,\u001b[0m \u001b[0mvalue\u001b[0m \u001b[0;32min\u001b[0m \u001b[0ma_dict\u001b[0m\u001b[0;34m.\u001b[0m\u001b[0mitems\u001b[0m\u001b[0;34m(\u001b[0m\u001b[0;34m)\u001b[0m\u001b[0;34m}\u001b[0m\u001b[0;34m\u001b[0m\u001b[0m\n\u001b[1;32m      5\u001b[0m \u001b[0ma_dict\u001b[0m \u001b[0;34m=\u001b[0m \u001b[0;34m{\u001b[0m\u001b[0;34m'a'\u001b[0m\u001b[0;34m:\u001b[0m \u001b[0;34m[\u001b[0m\u001b[0;36m1\u001b[0m\u001b[0;34m,\u001b[0m \u001b[0;36m2\u001b[0m\u001b[0;34m,\u001b[0m \u001b[0;36m3\u001b[0m\u001b[0;34m]\u001b[0m\u001b[0;34m,\u001b[0m \u001b[0;34m'b'\u001b[0m\u001b[0;34m:\u001b[0m \u001b[0;36m4\u001b[0m\u001b[0;34m,\u001b[0m \u001b[0;34m'c'\u001b[0m\u001b[0;34m:\u001b[0m \u001b[0;36m5\u001b[0m\u001b[0;34m}\u001b[0m\u001b[0;34m\u001b[0m\u001b[0m\n\u001b[0;32m----> 6\u001b[0;31m \u001b[0;34m{\u001b[0m\u001b[0mvalue\u001b[0m\u001b[0;34m:\u001b[0m\u001b[0mkey\u001b[0m \u001b[0;32mfor\u001b[0m \u001b[0mkey\u001b[0m\u001b[0;34m,\u001b[0m \u001b[0mvalue\u001b[0m \u001b[0;32min\u001b[0m \u001b[0ma_dict\u001b[0m\u001b[0;34m.\u001b[0m\u001b[0mitems\u001b[0m\u001b[0;34m(\u001b[0m\u001b[0;34m)\u001b[0m\u001b[0;34m}\u001b[0m\u001b[0;34m\u001b[0m\u001b[0m\n\u001b[0m",
      "\u001b[0;31mTypeError\u001b[0m: unhashable type: 'list'"
     ]
    }
   ],
   "source": [
    "# 3.4.1 Swapping keys and values of a dictionary.\n",
    "# It only works if the values of the dictionary are immutable.\n",
    "a_dict = {'a':1, 'b':2, 'c':3}\n",
    "{value:key for key, value in a_dict.items()}\n",
    "a_dict = {'a': [1, 2, 3], 'b': 4, 'c': 5}\n",
    "{value:key for key, value in a_dict.items()}\n"
   ]
  },
  {
   "cell_type": "code",
   "execution_count": 73,
   "metadata": {},
   "outputs": [
    {
     "name": "stdout",
     "output_type": "stream",
     "text": [
      "{0, 1, 2, 3, 4, 5, 6, 7, 8, 9}\n",
      "{0, 1, 64, 4, 36, 9, 16, 49, 81, 25}\n",
      "{0, 2, 4, 6, 8}\n",
      "{32, 1, 2, 64, 4, 128, 256, 512, 8, 16}\n"
     ]
    }
   ],
   "source": [
    "#3.5 Set Comprehensions\n",
    "\n",
    "a_set = set(range(10))\n",
    "print(a_set)\n",
    "print({x ** 2 for x in a_set})\n",
    "print({x for x in a_set if x % 2 == 0})\n",
    "print({2**x for x in range(10)})"
   ]
  },
  {
   "cell_type": "code",
   "execution_count": null,
   "metadata": {},
   "outputs": [],
   "source": []
  }
 ],
 "metadata": {
  "kernelspec": {
   "display_name": "Python 3",
   "language": "python",
   "name": "python3"
  },
  "language_info": {
   "codemirror_mode": {
    "name": "ipython",
    "version": 3
   },
   "file_extension": ".py",
   "mimetype": "text/x-python",
   "name": "python",
   "nbconvert_exporter": "python",
   "pygments_lexer": "ipython3",
   "version": "3.6.4"
  }
 },
 "nbformat": 4,
 "nbformat_minor": 2
}
